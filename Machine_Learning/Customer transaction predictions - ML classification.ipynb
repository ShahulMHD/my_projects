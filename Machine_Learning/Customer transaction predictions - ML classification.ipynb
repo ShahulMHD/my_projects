{
 "cells": [
  {
   "cell_type": "markdown",
   "metadata": {},
   "source": [
    "### Bank customer's transactions prediction"
   ]
  },
  {
   "cell_type": "markdown",
   "metadata": {},
   "source": [
    "#### Advanced classification algorithm with sickit-learn"
   ]
  },
  {
   "cell_type": "markdown",
   "metadata": {},
   "source": [
    "A national bank makes a point of looking for ways to help its customers understand their financial health and identify products and services that could help them achieve their goals.\n",
    "\n",
    "The purpose of this assessment is to help identify which of the bank's customers will make a specific transaction in the future, regardless of the amount of the transaction.\n",
    "\n",
    "We have an anonymized dataset containing numeric variables as well as the binary target variable. This dataset is separated into a training set (train.csv) and a test set (test.csv).\n",
    "\n",
    "An additional dataset (unlabeled.csv) contains additional but unlabeled data.\n",
    "\n",
    "    The task is to build a model that can best predict the value of the target column on the test set.\n",
    "\n",
    "A first Random Forest model has been trained on the training set, available in the file 'model.joblib'.\n",
    "\n",
    "Load the training and test data sets. Load the pre-trained model, and evaluate the rate of good predictions on the test set\n"
   ]
  },
  {
   "cell_type": "code",
   "execution_count": 2,
   "metadata": {},
   "outputs": [],
   "source": [
    "import numpy as np \n",
    "import pandas as pd \n",
    "import seaborn as sns\n",
    "from joblib import dump, load\n",
    "from sklearn import metrics\n",
    "import matplotlib.pyplot as plt\n",
    "from sklearn.linear_model import LogisticRegression\n",
    "from sklearn.ensemble import RandomForestClassifier\n",
    "from sklearn.tree import DecisionTreeClassifier\n",
    "from sklearn.model_selection import train_test_split,cross_val_predict,cross_val_score\n",
    "from sklearn.metrics import roc_auc_score,confusion_matrix,make_scorer,classification_report,roc_curve,auc\n",
    "from sklearn.model_selection import StratifiedKFold\n",
    "from imblearn.over_sampling import SMOTE, RandomOverSampler\n",
    "from imblearn.under_sampling import ClusterCentroids,NearMiss, RandomUnderSampler\n",
    "from imblearn.metrics import classification_report_imbalanced, geometric_mean_score\n",
    "from xgboost import XGBClassifier"
   ]
  },
  {
   "cell_type": "code",
   "execution_count": 3,
   "metadata": {},
   "outputs": [
    {
     "name": "stdout",
     "output_type": "stream",
     "text": [
      "Shape of X_train : (93000, 200)\n",
      "Shape of X_test : (31000, 200)\n",
      "Shape of y_train : (93000,)\n",
      "Shape of y_test : (31000,)\n"
     ]
    },
    {
     "data": {
      "image/png": "[encoded data removed]",
      "text/plain": [
       "<Figure size 432x288 with 1 Axes>"
      ]
     },
     "metadata": {
      "needs_background": "light"
     },
     "output_type": "display_data"
    }
   ],
   "source": [
    "train_df = pd.read_csv(\"/Users/shahul/Desktop/santander-customer-transaction-prediction/train.csv\")\n",
    "test_df = pd.read_csv(\"/Users/shahul/Desktop/santander-customer-transaction-prediction/test.csv\")\n",
    "\n",
    "train_df.drop(train_df.index[124000:200000],0,inplace=True)\n",
    "test_df.drop(test_df.index[31000:200000],0,inplace=True)\n",
    "\n",
    "\n",
    "#preparing the data\n",
    "X=train_df.drop(columns=['ID_code','target'],axis=1)\n",
    "y=train_df['target']\n",
    "\n",
    "#test_target=test_df['target']    # pour verifier plus tard avec le target de test\n",
    "\n",
    "#analysing target values\n",
    "sns.countplot(train_df.target)\n",
    "\n",
    "#Split the training data\n",
    "X_train,X_test,y_train,y_test=train_test_split(X,y)\n",
    "\n",
    "print('Shape of X_train :',X_train.shape)\n",
    "print('Shape of X_test :',X_test.shape)\n",
    "print('Shape of y_train :',y_train.shape)\n",
    "print('Shape of y_test :',y_test.shape)\n",
    "\n",
    "\n"
   ]
  },
  {
   "cell_type": "code",
   "execution_count": 14,
   "metadata": {},
   "outputs": [],
   "source": [
    "#import of pre-trained model \n",
    "\n",
    "#modelRF = load('model.joblib')\n",
    "rf_model=RandomForestClassifier(bootstrap=True, ccp_alpha=0.0, class_weight=None,\n",
    "                       criterion='gini', max_depth=None, max_features='auto',\n",
    "                       max_leaf_nodes=None, max_samples=None,\n",
    "                       min_impurity_decrease=0.0, min_impurity_split=None,\n",
    "                       min_samples_leaf=1, min_samples_split=2,\n",
    "                       min_weight_fraction_leaf=0.0, n_estimators=42,\n",
    "                       n_jobs=None, oob_score=False, random_state=None,\n",
    "                       verbose=0, warm_start=False) \n",
    "\n"
   ]
  },
  {
   "cell_type": "code",
   "execution_count": 32,
   "metadata": {},
   "outputs": [],
   "source": [
    "#Train the model using the training sets\n",
    "rf_model.fit(X_train,y_train)  #modelRF.fit(X_train,y_train)\n",
    "\n",
    "y_predRF = rf_model.predict(X_test) #y_predRF = modelRF.predict(X_test)\n",
    "\n"
   ]
  },
  {
   "cell_type": "markdown",
   "metadata": {},
   "source": [
    "What is the score of the model? Is this metric relevant to our classification problem?"
   ]
  },
  {
   "cell_type": "code",
   "execution_count": 42,
   "metadata": {},
   "outputs": [
    {
     "name": "stdout",
     "output_type": "stream",
     "text": [
      "Accuracy score: 0.900483870967742\n",
      "                   pre       rec       spe        f1       geo       iba       sup\n",
      "\n",
      "          0       0.90      1.00      0.00      0.95      0.00      0.00     27918\n",
      "          1       0.00      0.00      1.00      0.00      0.00      0.00      3082\n",
      "\n",
      "avg / total       0.81      0.90      0.10      0.85      0.00      0.00     31000\n",
      "\n",
      "AUC score :  0.49994627122286694\n"
     ]
    },
    {
     "data": {
      "text/html": [
       "<div>\n",
       "<style scoped>\n",
       "    .dataframe tbody tr th:only-of-type {\n",
       "        vertical-align: middle;\n",
       "    }\n",
       "\n",
       "    .dataframe tbody tr th {\n",
       "        vertical-align: top;\n",
       "    }\n",
       "\n",
       "    .dataframe thead th {\n",
       "        text-align: right;\n",
       "    }\n",
       "</style>\n",
       "<table border=\"1\" class=\"dataframe\">\n",
       "  <thead>\n",
       "    <tr style=\"text-align: right;\">\n",
       "      <th>Classes prédites</th>\n",
       "      <th>0</th>\n",
       "      <th>1</th>\n",
       "    </tr>\n",
       "    <tr>\n",
       "      <th>Classes réelles</th>\n",
       "      <th></th>\n",
       "      <th></th>\n",
       "    </tr>\n",
       "  </thead>\n",
       "  <tbody>\n",
       "    <tr>\n",
       "      <th>0</th>\n",
       "      <td>27915</td>\n",
       "      <td>3</td>\n",
       "    </tr>\n",
       "    <tr>\n",
       "      <th>1</th>\n",
       "      <td>3082</td>\n",
       "      <td>0</td>\n",
       "    </tr>\n",
       "  </tbody>\n",
       "</table>\n",
       "</div>"
      ],
      "text/plain": [
       "Classes prédites      0  1\n",
       "Classes réelles           \n",
       "0                 27915  3\n",
       "1                  3082  0"
      ]
     },
     "execution_count": 42,
     "metadata": {},
     "output_type": "execute_result"
    }
   ],
   "source": [
    "\n",
    "# let's evaluate the score of the obtained model and with test_target\n",
    "y_predRF = rf_model.predict(X_test)\n",
    "print(\"Accuracy score:\",metrics.accuracy_score(y_test,y_predRF))\n",
    "\n",
    "''' We can see on the graph above that about 90% of our data has 0 (the customer did not perform the transaction) and about 10% of the data has \n",
    "transaction). This shows that the problem to be solved is a binary classification problem and that this makes the data \n",
    "very unbalanced.\n",
    "Choosing Accuracy for this model is not the best metric to use when evaluating unbalanced datasets, as it can be\n",
    "misleading. So we will test other performance metrics.'''\n",
    "\n",
    "#classification report\n",
    "print(classification_report_imbalanced(y_test,y_predRF))\n",
    "\n",
    "#roc_auc_score\n",
    "AUC = roc_auc_score(y_test,y_predRF)\n",
    "print(\"AUC score : \", AUC)\n",
    "\n",
    "# Matrice de confusion\n",
    "pd.crosstab(y_test,y_predRF, rownames = [\"Classes réelles\"], colnames = [\"Classes prédites\"])\n",
    "\n"
   ]
  },
  {
   "cell_type": "markdown",
   "metadata": {},
   "source": [
    "Propose a better model to detect transactions, and evaluate it with a better metric."
   ]
  },
  {
   "cell_type": "code",
   "execution_count": 12,
   "metadata": {},
   "outputs": [
    {
     "name": "stdout",
     "output_type": "stream",
     "text": [
      "col_0       0     1\n",
      "target             \n",
      "0       20768  7150\n",
      "1         768  2314\n",
      "AUC score :  0.7473519952912996\n",
      "                   pre       rec       spe        f1       geo       iba       sup\n",
      "\n",
      "          0       0.96      0.74      0.75      0.84      0.75      0.56     27918\n",
      "          1       0.24      0.75      0.74      0.37      0.75      0.56      3082\n",
      "\n",
      "avg / total       0.89      0.74      0.75      0.79      0.75      0.56     31000\n",
      "\n"
     ]
    }
   ],
   "source": [
    "#methode manuelle\n",
    "#y1 = y.drop(y.index[31000:124000],0) \n",
    "#y_pred - y1\n",
    "#errors = sum(y_pred != y1) \n",
    "#print(\"Nb erreurs:\", errors)\n",
    "#print( \"Pourcentage de prédiction juste:\", (31000-errors)*100/31000) \n",
    "\n",
    "from imblearn.ensemble import BalancedRandomForestClassifier\n",
    "\n",
    "bclf = BalancedRandomForestClassifier()\n",
    "bclf.fit(X_train, y_train) \n",
    "y_pred_bclf = bclf.predict(X_test)\n",
    "\n",
    "#matric confusion\n",
    "print(pd.crosstab(y_test, y_pred_bclf))\n",
    "\n",
    "#auc score \n",
    "AUC = roc_auc_score(y_test, y_pred_bclf)\n",
    "print(\"AUC score : \", AUC)\n",
    "\n",
    "#classification report\n",
    "print(classification_report_imbalanced(y_test,y_pred_bclf))"
   ]
  },
  {
   "cell_type": "code",
   "execution_count": 9,
   "metadata": {},
   "outputs": [],
   "source": [
    "# Fitting XGBoost to the Training set\n",
    "from xgboost import XGBClassifier\n",
    "xgb = XGBClassifier(random_state = 42, n_jobs = -1)\n",
    "xgb.fit(X_train, y_train)\n",
    "y_pred_xgb = xgb.predict(X_test)"
   ]
  },
  {
   "cell_type": "code",
   "execution_count": 11,
   "metadata": {},
   "outputs": [
    {
     "name": "stdout",
     "output_type": "stream",
     "text": [
      "col_0       0    1\n",
      "target            \n",
      "0       27610  308\n",
      "1        2398  684\n",
      "AUC score :  0.6054507501550731\n",
      "                   pre       rec       spe        f1       geo       iba       sup\n",
      "\n",
      "          0       0.92      0.99      0.22      0.95      0.47      0.24     27918\n",
      "          1       0.69      0.22      0.99      0.34      0.47      0.20      3082\n",
      "\n",
      "avg / total       0.90      0.91      0.30      0.89      0.47      0.23     31000\n",
      "\n"
     ]
    }
   ],
   "source": [
    "#matrix confusion \n",
    "print(pd.crosstab(y_test, y_pred))\n",
    "\n",
    "#auc score \n",
    "AUC = roc_auc_score(y_test, y_pred)\n",
    "print(\"AUC score : \", AUC)\n",
    "\n",
    "#classification report\n",
    "print(classification_report_imbalanced(y_test,y_pred))"
   ]
  },
  {
   "cell_type": "code",
   "execution_count": null,
   "metadata": {},
   "outputs": [],
   "source": [
    "'''\n",
    " as we have imbalanced data here we can try Oversampling minority class wich is good when less data but drawback is\n",
    " that we are adding information.This may leads to overfitting and poor performance on test data.\n",
    " On opossite undersampling majority class could be a good choice when big data but drawback is that we are removing\n",
    " information that may be valuable.This may leads to underfitting and poor performance on test data.\n",
    "\n",
    " So Both Oversampling and undersampling techniques have some drawbacks. So, we are not going to use this models\n",
    " for this problem and also we will use other best algorithms'''\n",
    "\n",
    "'''Synthetic Minority Oversampling Technique(SMOTE) could be a good one lets try it'''"
   ]
  },
  {
   "cell_type": "code",
   "execution_count": 28,
   "metadata": {},
   "outputs": [],
   "source": [
    "y_test_train = train_df.drop(train_df.index[31000:124000])\n",
    "w1 = y_test_train.target"
   ]
  },
  {
   "cell_type": "code",
   "execution_count": 30,
   "metadata": {},
   "outputs": [
    {
     "name": "stdout",
     "output_type": "stream",
     "text": [
      "target     0    1\n",
      "target           \n",
      "0       6967    0\n",
      "1          0  759\n"
     ]
    }
   ],
   "source": [
    "y_test_train.shape\n",
    "w1.shape\n",
    "print(pd.crosstab(y_test, w1))\n",
    "\n",
    "\n"
   ]
  },
  {
   "cell_type": "code",
   "execution_count": null,
   "metadata": {},
   "outputs": [],
   "source": [
    "''' judging by the resul smote is the most compatible for this kind of datasets'''"
   ]
  }
 ],
 "metadata": {
  "kernelspec": {
   "display_name": "Python 3",
   "language": "python",
   "name": "python3"
  },
  "language_info": {
   "codemirror_mode": {
    "name": "ipython",
    "version": 3
   },
   "file_extension": ".py",
   "mimetype": "text/x-python",
   "name": "python",
   "nbconvert_exporter": "python",
   "pygments_lexer": "ipython3",
   "version": "3.8.8"
  }
 },
 "nbformat": 4,
 "nbformat_minor": 4
}
